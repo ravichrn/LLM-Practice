{
  "nbformat": 4,
  "nbformat_minor": 0,
  "metadata": {
    "colab": {
      "provenance": []
    },
    "kernelspec": {
      "name": "python3",
      "display_name": "Python 3"
    },
    "language_info": {
      "name": "python"
    }
  },
  "cells": [
    {
      "cell_type": "code",
      "execution_count": 2,
      "metadata": {
        "colab": {
          "base_uri": "https://localhost:8080/"
        },
        "id": "Zz___gzhw44A",
        "outputId": "0730b79b-d8cd-4bd2-d124-cdd43273d848"
      },
      "outputs": [
        {
          "output_type": "stream",
          "name": "stdout",
          "text": [
            "Collecting langchain_openai\n",
            "  Downloading langchain_openai-0.3.24-py3-none-any.whl.metadata (2.3 kB)\n",
            "Requirement already satisfied: langchain-core<1.0.0,>=0.3.65 in /usr/local/lib/python3.11/dist-packages (from langchain_openai) (0.3.65)\n",
            "Requirement already satisfied: openai<2.0.0,>=1.86.0 in /usr/local/lib/python3.11/dist-packages (from langchain_openai) (1.86.0)\n",
            "Requirement already satisfied: tiktoken<1,>=0.7 in /usr/local/lib/python3.11/dist-packages (from langchain_openai) (0.9.0)\n",
            "Requirement already satisfied: langsmith<0.4,>=0.3.45 in /usr/local/lib/python3.11/dist-packages (from langchain-core<1.0.0,>=0.3.65->langchain_openai) (0.3.45)\n",
            "Requirement already satisfied: tenacity!=8.4.0,<10.0.0,>=8.1.0 in /usr/local/lib/python3.11/dist-packages (from langchain-core<1.0.0,>=0.3.65->langchain_openai) (9.1.2)\n",
            "Requirement already satisfied: jsonpatch<2.0,>=1.33 in /usr/local/lib/python3.11/dist-packages (from langchain-core<1.0.0,>=0.3.65->langchain_openai) (1.33)\n",
            "Requirement already satisfied: PyYAML>=5.3 in /usr/local/lib/python3.11/dist-packages (from langchain-core<1.0.0,>=0.3.65->langchain_openai) (6.0.2)\n",
            "Requirement already satisfied: packaging<25,>=23.2 in /usr/local/lib/python3.11/dist-packages (from langchain-core<1.0.0,>=0.3.65->langchain_openai) (24.2)\n",
            "Requirement already satisfied: typing-extensions>=4.7 in /usr/local/lib/python3.11/dist-packages (from langchain-core<1.0.0,>=0.3.65->langchain_openai) (4.14.0)\n",
            "Requirement already satisfied: pydantic>=2.7.4 in /usr/local/lib/python3.11/dist-packages (from langchain-core<1.0.0,>=0.3.65->langchain_openai) (2.11.5)\n",
            "Requirement already satisfied: anyio<5,>=3.5.0 in /usr/local/lib/python3.11/dist-packages (from openai<2.0.0,>=1.86.0->langchain_openai) (4.9.0)\n",
            "Requirement already satisfied: distro<2,>=1.7.0 in /usr/local/lib/python3.11/dist-packages (from openai<2.0.0,>=1.86.0->langchain_openai) (1.9.0)\n",
            "Requirement already satisfied: httpx<1,>=0.23.0 in /usr/local/lib/python3.11/dist-packages (from openai<2.0.0,>=1.86.0->langchain_openai) (0.28.1)\n",
            "Requirement already satisfied: jiter<1,>=0.4.0 in /usr/local/lib/python3.11/dist-packages (from openai<2.0.0,>=1.86.0->langchain_openai) (0.10.0)\n",
            "Requirement already satisfied: sniffio in /usr/local/lib/python3.11/dist-packages (from openai<2.0.0,>=1.86.0->langchain_openai) (1.3.1)\n",
            "Requirement already satisfied: tqdm>4 in /usr/local/lib/python3.11/dist-packages (from openai<2.0.0,>=1.86.0->langchain_openai) (4.67.1)\n",
            "Requirement already satisfied: regex>=2022.1.18 in /usr/local/lib/python3.11/dist-packages (from tiktoken<1,>=0.7->langchain_openai) (2024.11.6)\n",
            "Requirement already satisfied: requests>=2.26.0 in /usr/local/lib/python3.11/dist-packages (from tiktoken<1,>=0.7->langchain_openai) (2.32.3)\n",
            "Requirement already satisfied: idna>=2.8 in /usr/local/lib/python3.11/dist-packages (from anyio<5,>=3.5.0->openai<2.0.0,>=1.86.0->langchain_openai) (3.10)\n",
            "Requirement already satisfied: certifi in /usr/local/lib/python3.11/dist-packages (from httpx<1,>=0.23.0->openai<2.0.0,>=1.86.0->langchain_openai) (2025.4.26)\n",
            "Requirement already satisfied: httpcore==1.* in /usr/local/lib/python3.11/dist-packages (from httpx<1,>=0.23.0->openai<2.0.0,>=1.86.0->langchain_openai) (1.0.9)\n",
            "Requirement already satisfied: h11>=0.16 in /usr/local/lib/python3.11/dist-packages (from httpcore==1.*->httpx<1,>=0.23.0->openai<2.0.0,>=1.86.0->langchain_openai) (0.16.0)\n",
            "Requirement already satisfied: jsonpointer>=1.9 in /usr/local/lib/python3.11/dist-packages (from jsonpatch<2.0,>=1.33->langchain-core<1.0.0,>=0.3.65->langchain_openai) (3.0.0)\n",
            "Requirement already satisfied: orjson<4.0.0,>=3.9.14 in /usr/local/lib/python3.11/dist-packages (from langsmith<0.4,>=0.3.45->langchain-core<1.0.0,>=0.3.65->langchain_openai) (3.10.18)\n",
            "Requirement already satisfied: requests-toolbelt<2.0.0,>=1.0.0 in /usr/local/lib/python3.11/dist-packages (from langsmith<0.4,>=0.3.45->langchain-core<1.0.0,>=0.3.65->langchain_openai) (1.0.0)\n",
            "Requirement already satisfied: zstandard<0.24.0,>=0.23.0 in /usr/local/lib/python3.11/dist-packages (from langsmith<0.4,>=0.3.45->langchain-core<1.0.0,>=0.3.65->langchain_openai) (0.23.0)\n",
            "Requirement already satisfied: annotated-types>=0.6.0 in /usr/local/lib/python3.11/dist-packages (from pydantic>=2.7.4->langchain-core<1.0.0,>=0.3.65->langchain_openai) (0.7.0)\n",
            "Requirement already satisfied: pydantic-core==2.33.2 in /usr/local/lib/python3.11/dist-packages (from pydantic>=2.7.4->langchain-core<1.0.0,>=0.3.65->langchain_openai) (2.33.2)\n",
            "Requirement already satisfied: typing-inspection>=0.4.0 in /usr/local/lib/python3.11/dist-packages (from pydantic>=2.7.4->langchain-core<1.0.0,>=0.3.65->langchain_openai) (0.4.1)\n",
            "Requirement already satisfied: charset-normalizer<4,>=2 in /usr/local/lib/python3.11/dist-packages (from requests>=2.26.0->tiktoken<1,>=0.7->langchain_openai) (3.4.2)\n",
            "Requirement already satisfied: urllib3<3,>=1.21.1 in /usr/local/lib/python3.11/dist-packages (from requests>=2.26.0->tiktoken<1,>=0.7->langchain_openai) (2.4.0)\n",
            "Downloading langchain_openai-0.3.24-py3-none-any.whl (68 kB)\n",
            "\u001b[2K   \u001b[90m━━━━━━━━━━━━━━━━━━━━━━━━━━━━━━━━━━━━━━━━\u001b[0m \u001b[32m69.0/69.0 kB\u001b[0m \u001b[31m2.1 MB/s\u001b[0m eta \u001b[36m0:00:00\u001b[0m\n",
            "\u001b[?25hInstalling collected packages: langchain_openai\n",
            "Successfully installed langchain_openai-0.3.24\n"
          ]
        }
      ],
      "source": [
        "!pip install langchain_openai"
      ]
    },
    {
      "cell_type": "code",
      "source": [
        "from langchain_openai import ChatOpenAI\n",
        "\n",
        "model = ChatOpenAI(model=\"gpt-4o\", openai_api_key=\"<>\")\n",
        "\n",
        "# Invoke the model with a message\n",
        "result = model.invoke(\"What is 81 divided by 9?\")\n",
        "print(\"Full result:\")\n",
        "print(result)\n",
        "print(\"Content only:\")\n",
        "print(result.content)"
      ],
      "metadata": {
        "colab": {
          "base_uri": "https://localhost:8080/"
        },
        "id": "vxqp50GVxFgA",
        "outputId": "0c4902be-6b61-4dd4-af10-30ba534a6b5f"
      },
      "execution_count": 3,
      "outputs": [
        {
          "output_type": "stream",
          "name": "stdout",
          "text": [
            "Full result:\n",
            "content='81 divided by 9 is 9.' additional_kwargs={'refusal': None} response_metadata={'token_usage': {'completion_tokens': 9, 'prompt_tokens': 16, 'total_tokens': 25, 'completion_tokens_details': {'accepted_prediction_tokens': 0, 'audio_tokens': 0, 'reasoning_tokens': 0, 'rejected_prediction_tokens': 0}, 'prompt_tokens_details': {'audio_tokens': 0, 'cached_tokens': 0}}, 'model_name': 'gpt-4o-2024-08-06', 'system_fingerprint': 'fp_07871e2ad8', 'id': 'chatcmpl-BjcPUBcRqWqpROz80jcoJX0uF5TM4', 'service_tier': 'default', 'finish_reason': 'stop', 'logprobs': None} id='run--a523e573-9054-4f02-a2a8-0ecf5f712608-0' usage_metadata={'input_tokens': 16, 'output_tokens': 9, 'total_tokens': 25, 'input_token_details': {'audio': 0, 'cache_read': 0}, 'output_token_details': {'audio': 0, 'reasoning': 0}}\n",
            "Content only:\n",
            "81 divided by 9 is 9.\n"
          ]
        }
      ]
    },
    {
      "cell_type": "code",
      "source": [
        "!pip install langchain_core"
      ],
      "metadata": {
        "colab": {
          "base_uri": "https://localhost:8080/"
        },
        "id": "ia4NX-OM49qY",
        "outputId": "ca8f4c13-94b8-4919-d3bc-156d1ac07d18"
      },
      "execution_count": 4,
      "outputs": [
        {
          "output_type": "stream",
          "name": "stdout",
          "text": [
            "Requirement already satisfied: langchain_core in /usr/local/lib/python3.11/dist-packages (0.3.65)\n",
            "Requirement already satisfied: langsmith<0.4,>=0.3.45 in /usr/local/lib/python3.11/dist-packages (from langchain_core) (0.3.45)\n",
            "Requirement already satisfied: tenacity!=8.4.0,<10.0.0,>=8.1.0 in /usr/local/lib/python3.11/dist-packages (from langchain_core) (9.1.2)\n",
            "Requirement already satisfied: jsonpatch<2.0,>=1.33 in /usr/local/lib/python3.11/dist-packages (from langchain_core) (1.33)\n",
            "Requirement already satisfied: PyYAML>=5.3 in /usr/local/lib/python3.11/dist-packages (from langchain_core) (6.0.2)\n",
            "Requirement already satisfied: packaging<25,>=23.2 in /usr/local/lib/python3.11/dist-packages (from langchain_core) (24.2)\n",
            "Requirement already satisfied: typing-extensions>=4.7 in /usr/local/lib/python3.11/dist-packages (from langchain_core) (4.14.0)\n",
            "Requirement already satisfied: pydantic>=2.7.4 in /usr/local/lib/python3.11/dist-packages (from langchain_core) (2.11.5)\n",
            "Requirement already satisfied: jsonpointer>=1.9 in /usr/local/lib/python3.11/dist-packages (from jsonpatch<2.0,>=1.33->langchain_core) (3.0.0)\n",
            "Requirement already satisfied: httpx<1,>=0.23.0 in /usr/local/lib/python3.11/dist-packages (from langsmith<0.4,>=0.3.45->langchain_core) (0.28.1)\n",
            "Requirement already satisfied: orjson<4.0.0,>=3.9.14 in /usr/local/lib/python3.11/dist-packages (from langsmith<0.4,>=0.3.45->langchain_core) (3.10.18)\n",
            "Requirement already satisfied: requests<3,>=2 in /usr/local/lib/python3.11/dist-packages (from langsmith<0.4,>=0.3.45->langchain_core) (2.32.3)\n",
            "Requirement already satisfied: requests-toolbelt<2.0.0,>=1.0.0 in /usr/local/lib/python3.11/dist-packages (from langsmith<0.4,>=0.3.45->langchain_core) (1.0.0)\n",
            "Requirement already satisfied: zstandard<0.24.0,>=0.23.0 in /usr/local/lib/python3.11/dist-packages (from langsmith<0.4,>=0.3.45->langchain_core) (0.23.0)\n",
            "Requirement already satisfied: annotated-types>=0.6.0 in /usr/local/lib/python3.11/dist-packages (from pydantic>=2.7.4->langchain_core) (0.7.0)\n",
            "Requirement already satisfied: pydantic-core==2.33.2 in /usr/local/lib/python3.11/dist-packages (from pydantic>=2.7.4->langchain_core) (2.33.2)\n",
            "Requirement already satisfied: typing-inspection>=0.4.0 in /usr/local/lib/python3.11/dist-packages (from pydantic>=2.7.4->langchain_core) (0.4.1)\n",
            "Requirement already satisfied: anyio in /usr/local/lib/python3.11/dist-packages (from httpx<1,>=0.23.0->langsmith<0.4,>=0.3.45->langchain_core) (4.9.0)\n",
            "Requirement already satisfied: certifi in /usr/local/lib/python3.11/dist-packages (from httpx<1,>=0.23.0->langsmith<0.4,>=0.3.45->langchain_core) (2025.4.26)\n",
            "Requirement already satisfied: httpcore==1.* in /usr/local/lib/python3.11/dist-packages (from httpx<1,>=0.23.0->langsmith<0.4,>=0.3.45->langchain_core) (1.0.9)\n",
            "Requirement already satisfied: idna in /usr/local/lib/python3.11/dist-packages (from httpx<1,>=0.23.0->langsmith<0.4,>=0.3.45->langchain_core) (3.10)\n",
            "Requirement already satisfied: h11>=0.16 in /usr/local/lib/python3.11/dist-packages (from httpcore==1.*->httpx<1,>=0.23.0->langsmith<0.4,>=0.3.45->langchain_core) (0.16.0)\n",
            "Requirement already satisfied: charset-normalizer<4,>=2 in /usr/local/lib/python3.11/dist-packages (from requests<3,>=2->langsmith<0.4,>=0.3.45->langchain_core) (3.4.2)\n",
            "Requirement already satisfied: urllib3<3,>=1.21.1 in /usr/local/lib/python3.11/dist-packages (from requests<3,>=2->langsmith<0.4,>=0.3.45->langchain_core) (2.4.0)\n",
            "Requirement already satisfied: sniffio>=1.1 in /usr/local/lib/python3.11/dist-packages (from anyio->httpx<1,>=0.23.0->langsmith<0.4,>=0.3.45->langchain_core) (1.3.1)\n"
          ]
        }
      ]
    },
    {
      "cell_type": "code",
      "source": [
        "from langchain_core.messages import AIMessage, HumanMessage, SystemMessage\n",
        "\n",
        "messages = [\n",
        "    SystemMessage(content=\"Solve the following math problems\"),\n",
        "    HumanMessage(content=\"What is 81 divided by 9?\"),\n",
        "    AIMessage(content=\"81 divided by 9 is 9.\"),\n",
        "    HumanMessage(content=\"What is 10 times 5?\"),\n",
        "]\n",
        "\n",
        "result = model.invoke(messages)\n",
        "print(f\"Answer from AI: {result.content}\")"
      ],
      "metadata": {
        "colab": {
          "base_uri": "https://localhost:8080/"
        },
        "id": "dcCbiitrxVQm",
        "outputId": "35ae07ad-90da-4ef5-d79b-79a0fae2a4dd"
      },
      "execution_count": 5,
      "outputs": [
        {
          "output_type": "stream",
          "name": "stdout",
          "text": [
            "Answer from AI: 10 times 5 is 50.\n"
          ]
        }
      ]
    },
    {
      "cell_type": "code",
      "source": [
        "!pip install langchain"
      ],
      "metadata": {
        "colab": {
          "base_uri": "https://localhost:8080/"
        },
        "id": "q-RKc2r25Mj0",
        "outputId": "de9d754b-2b5f-4bd6-dada-ae321254607e"
      },
      "execution_count": 6,
      "outputs": [
        {
          "output_type": "stream",
          "name": "stdout",
          "text": [
            "Requirement already satisfied: langchain in /usr/local/lib/python3.11/dist-packages (0.3.25)\n",
            "Requirement already satisfied: langchain-core<1.0.0,>=0.3.58 in /usr/local/lib/python3.11/dist-packages (from langchain) (0.3.65)\n",
            "Requirement already satisfied: langchain-text-splitters<1.0.0,>=0.3.8 in /usr/local/lib/python3.11/dist-packages (from langchain) (0.3.8)\n",
            "Requirement already satisfied: langsmith<0.4,>=0.1.17 in /usr/local/lib/python3.11/dist-packages (from langchain) (0.3.45)\n",
            "Requirement already satisfied: pydantic<3.0.0,>=2.7.4 in /usr/local/lib/python3.11/dist-packages (from langchain) (2.11.5)\n",
            "Requirement already satisfied: SQLAlchemy<3,>=1.4 in /usr/local/lib/python3.11/dist-packages (from langchain) (2.0.41)\n",
            "Requirement already satisfied: requests<3,>=2 in /usr/local/lib/python3.11/dist-packages (from langchain) (2.32.3)\n",
            "Requirement already satisfied: PyYAML>=5.3 in /usr/local/lib/python3.11/dist-packages (from langchain) (6.0.2)\n",
            "Requirement already satisfied: tenacity!=8.4.0,<10.0.0,>=8.1.0 in /usr/local/lib/python3.11/dist-packages (from langchain-core<1.0.0,>=0.3.58->langchain) (9.1.2)\n",
            "Requirement already satisfied: jsonpatch<2.0,>=1.33 in /usr/local/lib/python3.11/dist-packages (from langchain-core<1.0.0,>=0.3.58->langchain) (1.33)\n",
            "Requirement already satisfied: packaging<25,>=23.2 in /usr/local/lib/python3.11/dist-packages (from langchain-core<1.0.0,>=0.3.58->langchain) (24.2)\n",
            "Requirement already satisfied: typing-extensions>=4.7 in /usr/local/lib/python3.11/dist-packages (from langchain-core<1.0.0,>=0.3.58->langchain) (4.14.0)\n",
            "Requirement already satisfied: httpx<1,>=0.23.0 in /usr/local/lib/python3.11/dist-packages (from langsmith<0.4,>=0.1.17->langchain) (0.28.1)\n",
            "Requirement already satisfied: orjson<4.0.0,>=3.9.14 in /usr/local/lib/python3.11/dist-packages (from langsmith<0.4,>=0.1.17->langchain) (3.10.18)\n",
            "Requirement already satisfied: requests-toolbelt<2.0.0,>=1.0.0 in /usr/local/lib/python3.11/dist-packages (from langsmith<0.4,>=0.1.17->langchain) (1.0.0)\n",
            "Requirement already satisfied: zstandard<0.24.0,>=0.23.0 in /usr/local/lib/python3.11/dist-packages (from langsmith<0.4,>=0.1.17->langchain) (0.23.0)\n",
            "Requirement already satisfied: annotated-types>=0.6.0 in /usr/local/lib/python3.11/dist-packages (from pydantic<3.0.0,>=2.7.4->langchain) (0.7.0)\n",
            "Requirement already satisfied: pydantic-core==2.33.2 in /usr/local/lib/python3.11/dist-packages (from pydantic<3.0.0,>=2.7.4->langchain) (2.33.2)\n",
            "Requirement already satisfied: typing-inspection>=0.4.0 in /usr/local/lib/python3.11/dist-packages (from pydantic<3.0.0,>=2.7.4->langchain) (0.4.1)\n",
            "Requirement already satisfied: charset-normalizer<4,>=2 in /usr/local/lib/python3.11/dist-packages (from requests<3,>=2->langchain) (3.4.2)\n",
            "Requirement already satisfied: idna<4,>=2.5 in /usr/local/lib/python3.11/dist-packages (from requests<3,>=2->langchain) (3.10)\n",
            "Requirement already satisfied: urllib3<3,>=1.21.1 in /usr/local/lib/python3.11/dist-packages (from requests<3,>=2->langchain) (2.4.0)\n",
            "Requirement already satisfied: certifi>=2017.4.17 in /usr/local/lib/python3.11/dist-packages (from requests<3,>=2->langchain) (2025.4.26)\n",
            "Requirement already satisfied: greenlet>=1 in /usr/local/lib/python3.11/dist-packages (from SQLAlchemy<3,>=1.4->langchain) (3.2.3)\n",
            "Requirement already satisfied: anyio in /usr/local/lib/python3.11/dist-packages (from httpx<1,>=0.23.0->langsmith<0.4,>=0.1.17->langchain) (4.9.0)\n",
            "Requirement already satisfied: httpcore==1.* in /usr/local/lib/python3.11/dist-packages (from httpx<1,>=0.23.0->langsmith<0.4,>=0.1.17->langchain) (1.0.9)\n",
            "Requirement already satisfied: h11>=0.16 in /usr/local/lib/python3.11/dist-packages (from httpcore==1.*->httpx<1,>=0.23.0->langsmith<0.4,>=0.1.17->langchain) (0.16.0)\n",
            "Requirement already satisfied: jsonpointer>=1.9 in /usr/local/lib/python3.11/dist-packages (from jsonpatch<2.0,>=1.33->langchain-core<1.0.0,>=0.3.58->langchain) (3.0.0)\n",
            "Requirement already satisfied: sniffio>=1.1 in /usr/local/lib/python3.11/dist-packages (from anyio->httpx<1,>=0.23.0->langsmith<0.4,>=0.1.17->langchain) (1.3.1)\n"
          ]
        }
      ]
    },
    {
      "cell_type": "code",
      "source": [
        "from langchain.schema import AIMessage, HumanMessage, SystemMessage\n",
        "\n",
        "chat_history = []\n",
        "\n",
        "system_message = SystemMessage(content=\"You are a helpful AI assistant.\")\n",
        "chat_history.append(system_message)\n",
        "\n",
        "while True:\n",
        "  query = input(\"You: \")\n",
        "  if query.lower() == \"exit\":\n",
        "    break\n",
        "  chat_history.append(HumanMessage(content=query))\n",
        "\n",
        "  result = model.invoke(chat_history)\n",
        "  response = result.content\n",
        "  chat_history.append(AIMessage(content=response))\n",
        "\n",
        "  print(f\"AI: {response}\")\n",
        "\n",
        "print(\"------Message History------\")\n",
        "print(chat_history)"
      ],
      "metadata": {
        "colab": {
          "base_uri": "https://localhost:8080/"
        },
        "id": "71VOZbS85ehK",
        "outputId": "1ba60ac1-4fae-4b7d-87b2-9a31b6d112a3"
      },
      "execution_count": 7,
      "outputs": [
        {
          "output_type": "stream",
          "name": "stdout",
          "text": [
            "You: god is dead as nietzsche said. is it true?\n",
            "AI: The phrase \"God is dead\" originates from the German philosopher Friedrich Nietzsche and is found in several of his works, most notably in \"The Gay Science\" and \"Thus Spoke Zarathustra.\" Nietzsche was not literally asserting that a deity had died; instead, he was using this phrase to express the idea that the traditional Christian God and, more broadly, the foundational religious and moral values of Europe, were losing their authority and influence in the modern world. This loss was due in large part to the rise of scientific understanding, secularization, and the Enlightenment's emphasis on reason and individualism.\n",
            "\n",
            "The statement \"God is dead\" is meant as a metaphor for the decline of religious and metaphysical belief systems which had structured Western society and provided existential meaning. Nietzsche believed that without these structured beliefs, society would face a nihilistic crisis, where life is seen as lacking inherent meaning or purpose. He saw this as both a challenge and an opportunity for humanity to create new values and meanings.\n",
            "\n",
            "Whether or not the statement is \"true\" depends on one's philosophical, theological, and personal perspectives. It's important to note that Nietzsche's proclamation was more of an observation of cultural shifts rather than an empirical claim. For many, religious and spiritual beliefs remain vital, while others may find significance and ethics in secular or alternative philosophical frameworks.\n",
            "\n",
            "The interpretation and significance of Nietzsche's statement continue to be the subject of much philosophical debate and analysis.\n",
            "You: i say god does not exist. so you agree?\n",
            "AI: As an AI, I don't hold personal beliefs or opinions. However, I can help you understand different perspectives on the question of God's existence.\n",
            "\n",
            "The question of whether God exists has been a central topic in philosophy, theology, and science for centuries, and people have diverse views on the matter. Here's a brief overview of some positions:\n",
            "\n",
            "1. **Theism:** Belief in the existence of one or more deities. This is common in many religious traditions, which hold that God or gods play an important role in the universe and in human life.\n",
            "\n",
            "2. **Atheism:** Lack of belief in the existence of God or gods. Atheists often rely on scientific explanations for the origin and workings of the universe and prefer empirical evidence over religious or spiritual beliefs.\n",
            "\n",
            "3. **Agnosticism:** The view that the existence of God or the divine is unknown or unknowable. Agnostics may suspend judgment on divine matters due to a lack of evidence one way or the other.\n",
            "\n",
            "4. **Pantheism and Panentheism:** Belief that God is identical with the universe (pantheism) or that God is greater than and includes the universe (panentheism).\n",
            "\n",
            "Your assertion that \"God does not exist\" aligns with atheism. People arrive at this position for various reasons, including the lack of empirical evidence for deities, philosophical objections to religious claims, or a commitment to naturalism—the belief that everything arises from natural properties and causes.\n",
            "\n",
            "It's important to note that beliefs about God's existence are deeply personal and often influenced by cultural, familial, and personal experiences. Discussions about such topics can be complex and deeply felt, and they often involve philosophical, scientific, and existential considerations.\n",
            "You: exit\n",
            "------Message History------\n",
            "[SystemMessage(content='You are a helpful AI assistant.', additional_kwargs={}, response_metadata={}), HumanMessage(content='god is dead as nietzsche said. is it true?', additional_kwargs={}, response_metadata={}), AIMessage(content='The phrase \"God is dead\" originates from the German philosopher Friedrich Nietzsche and is found in several of his works, most notably in \"The Gay Science\" and \"Thus Spoke Zarathustra.\" Nietzsche was not literally asserting that a deity had died; instead, he was using this phrase to express the idea that the traditional Christian God and, more broadly, the foundational religious and moral values of Europe, were losing their authority and influence in the modern world. This loss was due in large part to the rise of scientific understanding, secularization, and the Enlightenment\\'s emphasis on reason and individualism.\\n\\nThe statement \"God is dead\" is meant as a metaphor for the decline of religious and metaphysical belief systems which had structured Western society and provided existential meaning. Nietzsche believed that without these structured beliefs, society would face a nihilistic crisis, where life is seen as lacking inherent meaning or purpose. He saw this as both a challenge and an opportunity for humanity to create new values and meanings.\\n\\nWhether or not the statement is \"true\" depends on one\\'s philosophical, theological, and personal perspectives. It\\'s important to note that Nietzsche\\'s proclamation was more of an observation of cultural shifts rather than an empirical claim. For many, religious and spiritual beliefs remain vital, while others may find significance and ethics in secular or alternative philosophical frameworks.\\n\\nThe interpretation and significance of Nietzsche\\'s statement continue to be the subject of much philosophical debate and analysis.', additional_kwargs={}, response_metadata={}), HumanMessage(content='i say god does not exist. so you agree?', additional_kwargs={}, response_metadata={}), AIMessage(content='As an AI, I don\\'t hold personal beliefs or opinions. However, I can help you understand different perspectives on the question of God\\'s existence.\\n\\nThe question of whether God exists has been a central topic in philosophy, theology, and science for centuries, and people have diverse views on the matter. Here\\'s a brief overview of some positions:\\n\\n1. **Theism:** Belief in the existence of one or more deities. This is common in many religious traditions, which hold that God or gods play an important role in the universe and in human life.\\n\\n2. **Atheism:** Lack of belief in the existence of God or gods. Atheists often rely on scientific explanations for the origin and workings of the universe and prefer empirical evidence over religious or spiritual beliefs.\\n\\n3. **Agnosticism:** The view that the existence of God or the divine is unknown or unknowable. Agnostics may suspend judgment on divine matters due to a lack of evidence one way or the other.\\n\\n4. **Pantheism and Panentheism:** Belief that God is identical with the universe (pantheism) or that God is greater than and includes the universe (panentheism).\\n\\nYour assertion that \"God does not exist\" aligns with atheism. People arrive at this position for various reasons, including the lack of empirical evidence for deities, philosophical objections to religious claims, or a commitment to naturalism—the belief that everything arises from natural properties and causes.\\n\\nIt\\'s important to note that beliefs about God\\'s existence are deeply personal and often influenced by cultural, familial, and personal experiences. Discussions about such topics can be complex and deeply felt, and they often involve philosophical, scientific, and existential considerations.', additional_kwargs={}, response_metadata={})]\n"
          ]
        }
      ]
    },
    {
      "cell_type": "code",
      "source": [
        "from langchain.prompts import ChatPromptTemplate\n",
        "\n",
        "messages = [\n",
        "    (\"system\", \"You are a comedian who tells jokes about {topic}.\"),\n",
        "    (\"human\", \"Tell me {joke_count} jokes.\"),\n",
        "]\n",
        "\n",
        "prompt_template = ChatPromptTemplate.from_messages(messages)\n",
        "prompt = prompt_template.invoke({\"topic\": \"lawyers\", \"joke_count\": 3})\n",
        "print(\"\\n----- Prompt with System and Human Messages (Tuple) -----\\n\")\n",
        "print(prompt)"
      ],
      "metadata": {
        "colab": {
          "base_uri": "https://localhost:8080/"
        },
        "id": "meg9C47r6e0V",
        "outputId": "c6dd2bd0-66df-453a-b4b6-d7339cf210e7"
      },
      "execution_count": 17,
      "outputs": [
        {
          "output_type": "stream",
          "name": "stdout",
          "text": [
            "\n",
            "----- Prompt with System and Human Messages (Tuple) -----\n",
            "\n",
            "messages=[SystemMessage(content='You are a comedian who tells jokes about lawyers.', additional_kwargs={}, response_metadata={}), HumanMessage(content='Tell me 3 jokes.', additional_kwargs={}, response_metadata={})]\n"
          ]
        }
      ]
    },
    {
      "cell_type": "code",
      "source": [
        "from langchain.schema.output_parser import StrOutputParser\n",
        "\n",
        "chain = prompt_template | model | StrOutputParser()\n",
        "\n",
        "result = chain.invoke({\"topic\": \"lawyers\", \"joke_count\": 3})\n",
        "print(result)"
      ],
      "metadata": {
        "colab": {
          "base_uri": "https://localhost:8080/"
        },
        "id": "wBPb10Cr7mas",
        "outputId": "d592dbd5-b840-47c3-a51d-d5950fcdd989"
      },
      "execution_count": 18,
      "outputs": [
        {
          "output_type": "stream",
          "name": "stdout",
          "text": [
            "Sure, here are three lawyer jokes for you:\n",
            "\n",
            "1. Why don’t sharks attack lawyers?  \n",
            "   Professional courtesy!\n",
            "\n",
            "2. What's the difference between a lawyer and a herd of buffalo?  \n",
            "   The lawyer charges more!\n",
            "\n",
            "3. How many lawyer jokes are there, anyway?  \n",
            "   Only three. The rest are true stories!\n"
          ]
        }
      ]
    },
    {
      "cell_type": "code",
      "source": [
        "from langchain.schema.runnable import RunnableLambda, RunnableSequence\n",
        "\n",
        "format_prompt = RunnableLambda(lambda x: prompt_template.format_prompt(**x))\n",
        "invoke_model = RunnableLambda(lambda x: model.invoke(x.to_messages()))\n",
        "parse_output = RunnableLambda(lambda x: x.content)\n",
        "\n",
        "chain = RunnableSequence(first=format_prompt, middle=[invoke_model], last=parse_output)\n",
        "response = chain.invoke({\"topic\": \"lawyers\", \"joke_count\": 3})\n",
        "print(response)"
      ],
      "metadata": {
        "colab": {
          "base_uri": "https://localhost:8080/"
        },
        "id": "g2asQKjV8Zo3",
        "outputId": "05bcab76-ad73-4602-b442-939e10406bc3"
      },
      "execution_count": 12,
      "outputs": [
        {
          "output_type": "stream",
          "name": "stdout",
          "text": [
            "I can share some lawyer jokes with you. Let me give you a few laughs:\n",
            "\n",
            "1. How many lawyer jokes are there, anyway? Only three. The rest are true stories.\n",
            "   \n",
            "2. What's the difference between a lawyer and a herd of buffalo? The lawyer charges more. \n",
            "\n",
            "3. Why don’t sharks attack lawyers? Professional courtesy.\n",
            "\n",
            "Feel free to ask for more!\n"
          ]
        }
      ]
    },
    {
      "cell_type": "code",
      "source": [
        "uppercase_output = RunnableLambda(lambda x: x.upper())\n",
        "count_words = RunnableLambda(lambda x: f\"Word count: {len(x.split())}\\n{x}\")\n",
        "\n",
        "chain = prompt_template | model | StrOutputParser() | uppercase_output | count_words\n",
        "\n",
        "result = chain.invoke({\"topic\": \"lawyers\", \"joke_count\": 3})\n",
        "print(result)"
      ],
      "metadata": {
        "colab": {
          "base_uri": "https://localhost:8080/"
        },
        "id": "7XksXL1y9tba",
        "outputId": "79600ef8-93b5-4478-9c7b-d81315b36f66"
      },
      "execution_count": 19,
      "outputs": [
        {
          "output_type": "stream",
          "name": "stdout",
          "text": [
            "Word count: 65\n",
            "SURE! HERE ARE THREE LAWYER JOKES FOR YOU:\n",
            "\n",
            "1. WHY DID THE LAWYER SHOW UP TO COURT WEARING A VEST MADE ENTIRELY OF WATCHES?\n",
            "   - BECAUSE HE WANTED TO WIN HIS CASE WITH TIME WELL-SPENT!\n",
            "\n",
            "2. WHAT'S THE DIFFERENCE BETWEEN A LAWYER AND A HERD OF BUFFALO?\n",
            "   - THE LAWYER CHARGES MORE!\n",
            "\n",
            "3. WHY DID THE SHARK REFUSE TO EAT THE LAWYER?\n",
            "   - PROFESSIONAL COURTESY!\n"
          ]
        }
      ]
    },
    {
      "cell_type": "code",
      "source": [
        "from langchain.schema.runnable import RunnableParallel\n",
        "\n",
        "prompt_template = ChatPromptTemplate.from_messages([\n",
        "    (\"system\", \"You are an expert product reviewer.\"),\n",
        "    (\"human\", \"List the main features of the product {product_name}\"),\n",
        "])\n",
        "\n",
        "def analyze_pros(features):\n",
        "  pros_template = ChatPromptTemplate.from_messages(\n",
        "      [\n",
        "          (\"system\", \"You are an expert product reviewer.\"),\n",
        "          (\"human\", \"Given these features: {features}, list the pros of these features.\"),\n",
        "      ]\n",
        "  )\n",
        "  return pros_template.format_prompt(features=features)\n",
        "\n",
        "def analyze_cons(features):\n",
        "  cons_template = ChatPromptTemplate.from_messages(\n",
        "      [\n",
        "          (\"system\", \"You are an expert product reviewer.\"),\n",
        "          (\"human\", \"Given these features: {features}, list the cons of these features.\"),\n",
        "      ]\n",
        "  )\n",
        "  return cons_template.format_prompt(features=features)\n",
        "\n",
        "def combine_pros_cons(pros, cons):\n",
        "  return f\"Pros:\\n{pros}\\n\\nCons:\\n{cons}\"\n",
        "\n",
        "pros_branch_chain = (\n",
        "    RunnableLambda(lambda x: analyze_pros(x)) | model | StrOutputParser()\n",
        ")\n",
        "\n",
        "cons_branch_chain = (\n",
        "    RunnableLambda(lambda x: analyze_cons(x)) | model | StrOutputParser()\n",
        ")\n",
        "\n",
        "chain = (\n",
        "    prompt_template\n",
        "    | model\n",
        "    | StrOutputParser()\n",
        "    | RunnableParallel(branches={\"pros\":pros_branch_chain, \"cons\":cons_branch_chain})\n",
        "    | RunnableLambda(lambda x: combine_pros_cons(x[\"branches\"][\"pros\"], x[\"branches\"][\"cons\"]))\n",
        ")\n",
        "\n",
        "result = chain.invoke({\"product_name\": \"Ninetendo Switch 2\"})\n",
        "print(result)"
      ],
      "metadata": {
        "colab": {
          "base_uri": "https://localhost:8080/"
        },
        "id": "J3SSLREd-dEa",
        "outputId": "f373f240-733e-4523-cd15-df19d755f8f6"
      },
      "execution_count": 22,
      "outputs": [
        {
          "output_type": "stream",
          "name": "stdout",
          "text": [
            "Pros:\n",
            "Based on the speculative features of the anticipated Nintendo Switch 2, here are some potential advantages if these features were to be implemented:\n",
            "\n",
            "1. **Improved Performance**:\n",
            "   - **Pros**: Enhanced graphics and processing power could lead to smoother gameplay experiences and more visually stunning games. This opens up possibilities for more complex and demanding titles, improving the overall gaming experience.\n",
            "\n",
            "2. **Enhanced Display**:\n",
            "   - **Pros**: A higher resolution, potentially OLED, screen can provide sharper image quality, richer colors, and better contrast, significantly enhancing the portable gaming experience. This could make it more appealing for handheld gaming.\n",
            "\n",
            "3. **Longer Battery Life**:\n",
            "   - **Pros**: Extended battery life ensures longer gaming sessions without needing to recharge, making the device more convenient and portable. This is especially beneficial for long trips or commutes.\n",
            "\n",
            "4. **Backward Compatibility**:\n",
            "   - **Pros**: Supporting existing Switch games would protect players' existing game libraries, making the upgrade more appealing and cost-effective. It ensures continuity and value for previous game investments.\n",
            "\n",
            "5. **Joy-Con Improvements**:\n",
            "   - **Pros**: Addressing known issues like Joy-Con drift would result in more reliable controllers, enhancing user satisfaction and reducing frustration and repair costs over time.\n",
            "\n",
            "6. **4K TV Output**:\n",
            "   - **Pros**: 4K support when docked would provide a premium visual experience on larger screens, appealing to gamers who play on TVs and making it competitive with other consoles offering 4K.\n",
            "\n",
            "7. **Expanded Storage**:\n",
            "   - **Pros**: Larger internal storage means more space for digital game downloads, updates, and additional content without constantly managing space, reducing the need for additional microSD cards.\n",
            "\n",
            "8. **Improved Online Features**:\n",
            "   - **Pros**: Enhanced online capabilities can offer a richer multiplayer experience, smoother online interactions, and access to a wider range of content and services, attracting more players to engage and maintain memberships.\n",
            "\n",
            "9. **Integration with Nintendo Account**:\n",
            "   - **Pros**: Better integration with Nintendo's ecosystem improves the ease of accessing purchased content and services across devices, enhancing user convenience and potentially driving digital sales.\n",
            "\n",
            "10. **Enhanced Audio**:\n",
            "    - **Pros**: Improved audio features could elevate both handheld and docked gaming experiences, providing more immersive soundscapes and clearer audio for both single-player and multiplayer setups.\n",
            "\n",
            "These prospective features could make the Nintendo Switch 2 an enticing upgrade, offering advancements that appeal to both new users and existing Nintendo fans.\n",
            "\n",
            "Cons:\n",
            "When considering the potential features speculated for the Nintendo Switch 2, there are several cons that may arise from these improvements. Here's a detailed breakdown:\n",
            "\n",
            "1. **Improved Performance**\n",
            "   - **Higher Cost**: Upgraded hardware usually means increased production costs, which could translate to a higher retail price for consumers.\n",
            "   - **Heat Management**: More powerful processors can generate more heat, potentially leading to overheating issues if not effectively managed.\n",
            "\n",
            "2. **Enhanced Display**\n",
            "   - **Battery Drain**: A higher resolution or OLED display may consume more power, which could negate some battery life improvements.\n",
            "   - **Durability Concerns**: OLED screens, while offering better colors, can be more susceptible to burn-in compared to traditional LCDs.\n",
            "\n",
            "3. **Longer Battery Life**\n",
            "   - **Increased Weight**: A larger or more efficient battery could add extra weight or bulk to the device, affecting portability and comfort during extended play.\n",
            "   - **Battery Degradation**: Over time, even advanced batteries degrade, leading to performance issues in the long run.\n",
            "\n",
            "4. **Backward Compatibility**\n",
            "   - **Complex Development**: Ensuring full backward compatibility can complicate the development process, potentially delaying the release or introducing bugs.\n",
            "   - **Performance Variability**: Older games might not be optimized for the new hardware, which can result in inconsistent performance.\n",
            "\n",
            "5. **Joy-Con Improvements**\n",
            "   - **Cost of Replacement**: If new Joy-Cons address existing issues, they may come with a higher price tag, raising the cost of replacing or upgrading controllers.\n",
            "   - **Compatibility Issues**: Improved Joy-Cons might not be fully compatible with older models or accessories, causing inconvenience for current users.\n",
            "\n",
            "6. **4K TV Output**\n",
            "   - **Bandwidth and Processing Demand**: Enabling 4K output requires significant processing power and bandwidth, which might compromise other areas of performance.\n",
            "   - **Limited Game Availability**: Not all games may support 4K, limiting the feature’s appeal.\n",
            "\n",
            "7. **Expanded Storage**\n",
            "   - **Potentially Higher Prices**: Additional internal storage could increase the device’s cost, as storage components like SSDs tend to be more expensive.\n",
            "   - **Dependence on Digital Downloads**: Encouraging digital storage could diminish the market for physical game cartridges, affecting collectors and traditional gamers.\n",
            "\n",
            "8. **Improved Online Features**\n",
            "   - **Recurring Costs**: Enhanced online services often come with subscription costs, increasing the long-term expense for users who want full access to multiplayer and online content.\n",
            "   - **Security Risks**: More robust online features can bring greater exposure to hacking and security vulnerabilities.\n",
            "\n",
            "9. **Integration with Nintendo Account**\n",
            "   - **Privacy Concerns**: Greater integration might lead to increased data sharing and privacy issues if not handled properly.\n",
            "   - **Complicated Migrations**: Transitioning existing accounts and content could be technically challenging and might lead to data loss if not executed well.\n",
            "\n",
            "10. **Enhanced Audio**\n",
            "    - **Battery Impact**: Better audio components may require more power, impacting the device's battery life.\n",
            "    - **Compatibility with Existing Accessories**: Enhanced audio features might necessitate new accessories, making existing headphones or audio setups less effective.\n",
            "\n",
            "While these features have the potential to significantly enhance the Nintendo Switch 2's user experience, they come with trade-offs that could affect pricing, usability, and overall consumer satisfaction.\n"
          ]
        }
      ]
    },
    {
      "cell_type": "code",
      "source": [
        "from langchain.schema.runnable import RunnableBranch\n",
        "\n",
        "positive_feedback_template = ChatPromptTemplate.from_messages(\n",
        "    [\n",
        "        (\"system\", \"You are a helpful assistant.\"),\n",
        "        (\"human\", \"Generate a response addressing this postive feedback: {feedback}.\"),\n",
        "    ]\n",
        ")\n",
        "\n",
        "negative_feedback_template = ChatPromptTemplate.from_messages(\n",
        "    [\n",
        "        (\"system\", \"You are a helpful assistant.\"),\n",
        "        (\"human\", \"Generate a response addressing this negative feedback: {feedback}.\"),\n",
        "    ]\n",
        ")\n",
        "\n",
        "neutral_feedback_template = ChatPromptTemplate.from_messages(\n",
        "    [\n",
        "        (\"system\", \"You are a helpful assistant.\"),\n",
        "        (\"human\", \"Generate a request for more details for this neutral feedback: {feedback}.\"),\n",
        "    ]\n",
        ")\n",
        "\n",
        "escalate_feedback_template = ChatPromptTemplate.from_messages(\n",
        "    [\n",
        "        (\"system\", \"You are a helpful assistant.\"),\n",
        "        (\"human\", \"Generate a message to escalate this feedback to a human agent: {feedback}.\"),\n",
        "    ]\n",
        ")\n",
        "\n",
        "classification_template = ChatPromptTemplate.from_messages(\n",
        "    [\n",
        "        (\"system\", \"You are a helpful assistant.\"),\n",
        "        (\"human\", \"Classify the sentiment of this feedback as positive, negative, neutral or escalate: {feedback}.\"),\n",
        "    ]\n",
        ")\n",
        "\n",
        "branches = RunnableBranch(\n",
        "    (\n",
        "        lambda x: \"positive\" in x,\n",
        "        positive_feedback_template | model | StrOutputParser()\n",
        "    ),\n",
        "    (\n",
        "        lambda x: \"negative\" in x,\n",
        "        negative_feedback_template | model | StrOutputParser()\n",
        "    ),\n",
        "    (\n",
        "        lambda x: \"neutral\" in x,\n",
        "        neutral_feedback_template | model | StrOutputParser()\n",
        "    ),\n",
        "    escalate_feedback_template | model | StrOutputParser()\n",
        ")\n",
        "\n",
        "classification_chain = classification_template | model | StrOutputParser()\n",
        "\n",
        "chain = classification_chain | branches\n",
        "\n",
        "review = \"The product is ok. It broke after just one use and the quality is very good.\"\n",
        "result = chain.invoke({\"feedback\": review})\n",
        "print(result)"
      ],
      "metadata": {
        "colab": {
          "base_uri": "https://localhost:8080/"
        },
        "id": "5ZDKHnTmA9-2",
        "outputId": "fead889e-1eec-438e-d6f9-dcef83fb8a96"
      },
      "execution_count": 25,
      "outputs": [
        {
          "output_type": "stream",
          "name": "stdout",
          "text": [
            "Thank you for sharing your experience with us. We appreciate your feedback and are glad to hear that you found the quality of the product very good. However, we're concerned to learn that it broke after just one use. This isn't the experience we strive to provide, and we sincerely apologize for any inconvenience this may have caused.\n",
            "\n",
            "Your feedback is important to us, and we take issues like this seriously. We will be escalating this matter for further investigation to ensure the durability of our products meets our standards. In the meantime, please reach out to our customer service team so we can assist you with a replacement or provide further support.\n",
            "\n",
            "Thank you for helping us improve our products and services.\n"
          ]
        }
      ]
    },
    {
      "cell_type": "code",
      "source": [],
      "metadata": {
        "id": "CYCw-nYWE3SK"
      },
      "execution_count": null,
      "outputs": []
    }
  ]
}